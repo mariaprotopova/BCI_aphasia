{
 "cells": [
  {
   "cell_type": "code",
   "execution_count": 1,
   "id": "7ef34b80-1927-48c3-bd8f-df537b268d35",
   "metadata": {},
   "outputs": [],
   "source": [
    "import os\n",
    "import matplotlib.pyplot as plt\n",
    "import mne\n",
    "import numpy as np\n",
    "import pandas as pd\n",
    "import csv\n",
    "import gc\n",
    "sfreq=500 #specified in Matlab scripts\n",
    "\n",
    "import pandas as pd\n",
    "import numpy as np\n",
    "import cv2\n",
    "\n",
    "path = os.getcwd()"
   ]
  },
  {
   "cell_type": "markdown",
   "id": "7ee1667d-0d75-4d09-8b44-d986aac9e86f",
   "metadata": {},
   "source": [
    "## Read and Preprocess Data"
   ]
  },
  {
   "cell_type": "code",
   "execution_count": null,
   "id": "abc63682-fc54-41d7-89b0-c985b14c0604",
   "metadata": {},
   "outputs": [],
   "source": [
    "def tsv_to_fif(subj, run, path='C:/Users/HP pavilion X360/Desktop/BCI'):\n",
    "    stim_code = pd.read_csv(f'{path}/BCI_HSE{subj[1:]}/stim_code/stim_code_{subj}R{run}.csv')\n",
    "    data = np.zeros((stim_code.shape[0], 13))\n",
    "    with open(f\"{path}/BCI_HSE{subj[1:]}/tsv/BCI_HSE{subj}R{run}.ascii\") as tsv:\n",
    "        i = 0\n",
    "        for line in csv.reader(tsv, dialect=\"excel-tab\"):\n",
    "            if i == 0:\n",
    "                columns = line\n",
    "                i += 1\n",
    "            elif i <= stim_code.shape[0]:\n",
    "                data[i-1] = line\n",
    "                i += 1\n",
    "    smart = pd.DataFrame(data, columns = columns)\n",
    "    smart['STIM101'] = stim_code\n",
    "    n_channels = 2\n",
    "    sfreq = 500\n",
    "    # ch_names = columns\n",
    "    ch_names = ['Fp1', 'Fp2', 'STIM101']\n",
    "    ch_types = ['eeg']*2 + ['stim'] #['eeg']*2 + ['misc']*5 + ['eog']*3 + ['misc']*3\n",
    "    info = mne.create_info(ch_names, ch_types=ch_types, sfreq=sfreq)\n",
    "    raw = mne.io.RawArray(smart.values[:, [0, 1, 13]].T, info)\n",
    "\n",
    "    path_out = f'{path}/BCI_HSE{subj[1:]}/preprocessed/'\n",
    "    os.makedirs(path_out, exist_ok = True)\n",
    "    \n",
    "    raw_filt = raw.copy().filter(\n",
    "        1, 40, l_trans_bandwidth='auto', picks = ['eeg'],\n",
    "        h_trans_bandwidth='auto', filter_length='auto', phase='zero',\n",
    "        fir_window='hamming', fir_design='firwin', n_jobs=4)\n",
    "    raw_filt.save(f'{path_out}/{subj}R{run}_filt_raw.fif', overwrite = True)\n",
    "    return raw, raw_filt"
   ]
  },
  {
   "cell_type": "code",
   "execution_count": null,
   "id": "f08b99d3-63ad-4825-9227-f814b5866722",
   "metadata": {},
   "outputs": [],
   "source": [
    "subject_list = []\n",
    "for subj in subjecy list:\n",
    "    runs = glob.glob(f'{path}/BCI_HSE{subj[1:]}/tsv/*')\n",
    "    for run in runs:\n",
    "        raw, raw_filt = tsv_to_fif(subj = subj, run = run)"
   ]
  },
  {
   "cell_type": "code",
   "execution_count": null,
   "id": "fcbf08f8-293f-486b-81dc-2a508e898e7e",
   "metadata": {},
   "outputs": [],
   "source": []
  },
  {
   "cell_type": "markdown",
   "id": "d72fc1bc-4318-403f-a75e-627ee933a8b9",
   "metadata": {},
   "source": [
    "## ICA:"
   ]
  },
  {
   "cell_type": "code",
   "execution_count": null,
   "id": "7cdca2fc-59b7-4a9f-b80f-48ae96ec3bef",
   "metadata": {},
   "outputs": [],
   "source": [
    "def find_ica(subj, run):\n",
    "    path_out = f'{path}/BCI_HSE{subj[1:]}/preprocessed/'\n",
    "    from mne.preprocessing import ICA\n",
    "    %matplotlib qt\n",
    "    raw = mne.io.read_raw(f\"BCI_HSE{subj[1:]}/preprocessed/{subj}R{run}_filt_raw.fif\", preload = True)\n",
    "    ica = ICA(n_components=2, max_iter=\"auto\", random_state=97)\n",
    "    ica.fit(raw)\n",
    "    fig = ica.plot_sources(raw, show_scrollbars=False, show = True)\n",
    "    fig.savefig(f'ICA/{subj}_{run}_ica_comp.png', dpi = 300, bbox_inches = 'tight')\n",
    "    # raw.save(f'{path_out}/{subj}R{run}_filt_raw_ica.fif', overwrite = True)\n",
    "    return raw, ica"
   ]
  },
  {
   "cell_type": "code",
   "execution_count": null,
   "id": "01a4a6a7-3566-43eb-a0aa-7c022becc3e2",
   "metadata": {},
   "outputs": [],
   "source": []
  },
  {
   "cell_type": "code",
   "execution_count": null,
   "id": "adf19dbf-f96f-4be7-90c2-cfda50b13328",
   "metadata": {},
   "outputs": [],
   "source": [
    "subj = \n",
    "epo_list = []\n",
    "for run in runs:\n",
    "    raw, ica = find_ica(subj = subj, run = run)\n",
    "    if run == '02':\n",
    "        ica.exclude = [1]\n",
    "    else:\n",
    "        ica.exclude = [0]\n",
    "    reconst_raw = raw.copy()\n",
    "    ica.apply(reconst_raw)\n",
    "\n",
    "    events = mne.find_events(raw, stim_channel='STIM101', consecutive = True)\n",
    "    events[:, 1] = [0] * len(events)\n",
    "    \n",
    "    trigg = np.arange(2, np.unique(events[:, 2])[-1], 8)\n",
    "    for i in range(len(events[:, 2])):\n",
    "        if events[i, 2] in trigg:\n",
    "            events[i, 2] = 1\n",
    "        elif events[i, 2] == 0:\n",
    "            events[i, 2] = -1\n",
    "        else:\n",
    "            events[i, 2] = 0\n",
    "    \n",
    "    reject_criteria = dict(\n",
    "        eeg=10e-2,  # 100 µV\n",
    "        # eog=200e-6,\n",
    "    )  # 200 µV\n",
    "    \n",
    "    flat_criteria = dict(eeg=1e-13)\n",
    "    \n",
    "    os.makedirs(f'BCI_HSE{subj[1:]}/epochs/', exist_ok = True)\n",
    "    \n",
    "    event_id = {'stim' : 1, 'distr' : 0}\n",
    "    epochs = mne.Epochs(\n",
    "        reconst_raw, tmin=-1, tmax = 2.5, events=events, event_id=event_id, baseline = (-.5, 0),\n",
    "        reject_tmin = 0, reject_tmax = 1,\n",
    "        reject=reject_criteria,\n",
    "        flat=flat_criteria, preload = True)\n",
    "    epochs.save(f'BCI_HSE{subj[1:]}/epochs/{subj}R{run}_epo.fif')\n",
    "    epo_list.append(epochs)"
   ]
  },
  {
   "cell_type": "code",
   "execution_count": null,
   "id": "98983505-42b7-4a50-a641-fb2dd968e7f0",
   "metadata": {},
   "outputs": [],
   "source": [
    "epo_con = mne.concatenate_epochs(epo_list).crop(tmin = -.2, tmax = .8).resample(500)"
   ]
  },
  {
   "cell_type": "code",
   "execution_count": null,
   "id": "0d79b956-ed17-43ac-a714-fbe57d61e84a",
   "metadata": {},
   "outputs": [],
   "source": [
    "epo_con['stim'].average().plot()\n",
    "epo_con['distr'].average().plot()"
   ]
  },
  {
   "cell_type": "code",
   "execution_count": null,
   "id": "20cb0cb9-0e81-4311-83a9-7a6cec2be9fb",
   "metadata": {},
   "outputs": [],
   "source": []
  },
  {
   "cell_type": "markdown",
   "id": "2c5e7c0c-c2eb-4310-8acd-1e78d7831121",
   "metadata": {},
   "source": [
    "## To Plot:::"
   ]
  },
  {
   "cell_type": "code",
   "execution_count": 5,
   "id": "9a53e17c-4ca2-40df-8306-5157b5e8f510",
   "metadata": {},
   "outputs": [],
   "source": [
    "def plot_stat_comparison_timecourse_1samp_new(comp1, comp2, time, y_low = None, y_high = None, title='demo_title',\n",
    "                         comp1_label='comp1', comp2_label='comp2'):\n",
    "    assert(comp1.shape[1] == comp2.shape[1] == len(time))\n",
    "    fig = plt.figure()\n",
    "    ax1 = fig.add_subplot()\n",
    "    \n",
    "    plt.rcParams['axes.facecolor'] = 'none'\n",
    "    plt.xlim(time[0], time[-1])\n",
    "    if y_low is not None:\n",
    "        plt.ylim(y_low, y_high)\n",
    "    plt.plot([0, 0.000], [-500, 500], color='k', linewidth=1, linestyle='--', zorder=1)\n",
    "    plt.plot([-10000, 10000], [0, 0.00], color='k', linewidth=1, linestyle='--', zorder=1)\n",
    "    plt.plot(time, comp1.mean(axis = 0), color='turquoise', linewidth=1.5, label=comp1_label)\n",
    "    plt.plot(time, comp2.mean(axis = 0), color='salmon', linewidth=1.5, label=comp2_label)\n",
    "    \n",
    "    # ax1.set_ylabel(r'$\\mu$V')\n",
    "    ax1.set_xlabel('Time (ms)')\n",
    "    \n",
    "    plt.xticks(ticks=np.arange(time[0], time[-1], 100))\n",
    "    plt.tick_params(labelsize = 12)\n",
    "    ax1.legend()\n",
    "\n",
    "    ci_1 = np.std(comp1, axis = 0)/np.sqrt(comp1.shape[0])\n",
    "    ci_2 = np.std(comp2, axis = 0)/np.sqrt(comp2.shape[0])\n",
    "    ax1.fill_between(time, (comp1.mean(axis = 0)-ci_1), (comp1.mean(axis = 0)+ci_1), color='turquoise', alpha=.2)\n",
    "    ax1.fill_between(time, (comp2.mean(axis = 0)-ci_2), (comp2.mean(axis = 0)+ci_2), color='salmon', alpha=.2)\n",
    "\n",
    "    plt.title(title, fontsize = 12)\n",
    "    plt.show()\n",
    "    return fig"
   ]
  },
  {
   "cell_type": "code",
   "execution_count": null,
   "id": "f04b3bcf-564d-4daf-8913-62362f9b8a3e",
   "metadata": {},
   "outputs": [],
   "source": [
    "y_high = .001\n",
    "y_low = -.0008\n",
    "ch_1 = plot_stat_comparison_timecourse_1samp_new(comp1=epo_con['stim'].get_data()[:, 0], comp1_label='target',\n",
    "                                          comp2=epo_con['distr'].get_data()[:, 0], comp2_label='distractor',\n",
    "                                          time = epo_con.times * 1000,\n",
    "                                          y_high = y_high, y_low = y_low, \n",
    "                                          title = 'Channel 1'\n",
    "                                                 )\n",
    "ch_1.savefig(f'output/{subj}_1_{len(epo_con)}epo_ica.png', dpi = 300, bbox_inches = 'tight')\n",
    "\n",
    "ch_2 = plot_stat_comparison_timecourse_1samp_new(comp1=epo_con['stim'].get_data()[:, 1], comp1_label='target',\n",
    "                                          comp2=epo_con['distr'].get_data()[:, 1], comp2_label='distractor',\n",
    "                                          time = epo_con.times * 1000,\n",
    "                                          y_high = y_low, y_low = y_low, \n",
    "                                          title = 'Channel 2'\n",
    "                                                 )\n",
    "ch_2.savefig(f'output/{subj}_2_{len(epo_con)}epo_ica.png', dpi = 300, bbox_inches = 'tight')"
   ]
  },
  {
   "cell_type": "markdown",
   "id": "6853ad58-6b5b-402e-a7d7-7c6f6eae5e4c",
   "metadata": {},
   "source": [
    "## To Concat Graphs:::"
   ]
  },
  {
   "cell_type": "code",
   "execution_count": null,
   "id": "f841797a-6493-48c9-90d7-3188880d5c66",
   "metadata": {},
   "outputs": [],
   "source": [
    "img1 = cv2.imread(f'output/{subj}_1_{len(epo_con)}epo_ica.png')\n",
    "img2 = cv2.imread(f'output/{subj}_2_{len(epo_con)}epo_ica.png')\n",
    "\n",
    "im = cv2.hconcat([img1, img2])\n",
    "cv2.imwrite(f'output/{subj}_ica.png', im)"
   ]
  },
  {
   "cell_type": "code",
   "execution_count": null,
   "id": "328a73c9-4c44-4ef7-817d-5729737cc49d",
   "metadata": {},
   "outputs": [],
   "source": []
  },
  {
   "cell_type": "code",
   "execution_count": null,
   "id": "f17486e7-78a0-47c2-b7f5-4c66b1a0d479",
   "metadata": {},
   "outputs": [],
   "source": []
  }
 ],
 "metadata": {
  "kernelspec": {
   "display_name": "Python 3",
   "language": "python",
   "name": "python3"
  },
  "language_info": {
   "codemirror_mode": {
    "name": "ipython",
    "version": 3
   },
   "file_extension": ".py",
   "mimetype": "text/x-python",
   "name": "python",
   "nbconvert_exporter": "python",
   "pygments_lexer": "ipython3",
   "version": "3.11.5"
  }
 },
 "nbformat": 4,
 "nbformat_minor": 5
}
